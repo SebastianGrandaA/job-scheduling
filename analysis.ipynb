{
 "cells": [
  {
   "cell_type": "code",
   "execution_count": 12,
   "metadata": {},
   "outputs": [
    {
     "name": "stderr",
     "output_type": "stream",
     "text": [
      "\u001b[32m\u001b[1m  Activating\u001b[22m\u001b[39m project at `~/Documents/Tech/Academic/M2 ROAD/Courses/2. Gestion des opérations et planification de la production/Projet/job-scheduling`\n"
     ]
    }
   ],
   "source": [
    "include(\"main.jl\")"
   ]
  },
  {
   "cell_type": "code",
   "execution_count": 17,
   "metadata": {},
   "outputs": [
    {
     "data": {
      "text/plain": [
       "Dict{String, Any} with 4 entries:\n",
       "  \"instance\"  => \"A_instance_2_2_0\"\n",
       "  \"model\"     => \"BaseModel\"\n",
       "  \"benchmark\" => true\n",
       "  \"limit\"     => 3600"
      ]
     },
     "metadata": {},
     "output_type": "display_data"
    }
   ],
   "source": [
    "args = Dict(\n",
    "    \"instance\" => \"A_instance_2_2_0\", \n",
    "    \"model\" => \"BaseModel\",\n",
    "    \n",
    "    \"limit\" => 1 * 60 * 60,\n",
    "    \"benchmark\" => true\n",
    ")\n",
    "\n",
    "execute!(args)"
   ]
  },
  {
   "cell_type": "code",
   "execution_count": 18,
   "metadata": {},
   "outputs": [
    {
     "data": {
      "text/plain": [
       "Dict{String, Any} with 4 entries:\n",
       "  \"instance\"  => \"A_instance_2_2_0\"\n",
       "  \"model\"     => \"MP1\"\n",
       "  \"benchmark\" => true\n",
       "  \"limit\"     => 3600"
      ]
     },
     "metadata": {},
     "output_type": "display_data"
    }
   ],
   "source": [
    "args = Dict(\n",
    "    \"instance\" => \"A_instance_2_2_0\", \n",
    "    \"model\" => \"MP1\",\n",
    "    \n",
    "    \"limit\" => 1 * 60 * 60,\n",
    "    \"benchmark\" => true\n",
    ")\n",
    "\n",
    "# execute!(args)"
   ]
  },
  {
   "cell_type": "code",
   "execution_count": null,
   "metadata": {},
   "outputs": [],
   "source": [
    "args = Dict(\n",
    "    \"instance\" => \"A_instance_2_2_0\", \n",
    "    \"model\" => \"MP2\",\n",
    "    \n",
    "    \"limit\" => 1 * 60 * 60,\n",
    "    \"benchmark\" => true\n",
    ")"
   ]
  },
  {
   "cell_type": "markdown",
   "metadata": {},
   "source": [
    "## Benchmark"
   ]
  },
  {
   "cell_type": "code",
   "execution_count": null,
   "metadata": {},
   "outputs": [],
   "source": [
    "function benchmark!(instances::Vector{String}, models::Vector{String})\n",
    "    for instance in instances\n",
    "        for model in models\n",
    "            @info \"Benchmarking $(model) on $(instance)\"\n",
    "            args = Dict(\n",
    "                \"instance\" => instance, \n",
    "                \"model\" => model,\n",
    "                \"limit\" => 1 * 60 * 60,\n",
    "                \"benchmark\" => true\n",
    "            )\n",
    "            execute!(args)\n",
    "        end\n",
    "    end\n",
    "end"
   ]
  },
  {
   "cell_type": "code",
   "execution_count": null,
   "metadata": {},
   "outputs": [],
   "source": [
    "instances = [\"A_instance_2_2_0\", \"A_instance_2_2_2\"]\n",
    "models = [\"BaseModel\", \"MP1\", \"MP2\"]\n",
    "\n",
    "benchmark!(instances, models)"
   ]
  }
 ],
 "metadata": {
  "kernelspec": {
   "display_name": "Julia 1.9.3",
   "language": "julia",
   "name": "julia-1.9"
  },
  "language_info": {
   "file_extension": ".jl",
   "mimetype": "application/julia",
   "name": "julia",
   "version": "1.9.3"
  }
 },
 "nbformat": 4,
 "nbformat_minor": 2
}
