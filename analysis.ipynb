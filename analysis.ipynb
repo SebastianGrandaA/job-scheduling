{
 "cells": [
  {
   "cell_type": "code",
   "execution_count": 8,
   "metadata": {},
   "outputs": [
    {
     "name": "stderr",
     "output_type": "stream",
     "text": [
      "\u001b[32m\u001b[1m  Activating\u001b[22m\u001b[39m project at `~/Documents/Tech/Academic/M2 ROAD/Courses/2. Gestion des opérations et planification de la production/Projet/job-scheduling`\n"
     ]
    }
   ],
   "source": [
    "include(\"main.jl\")"
   ]
  },
  {
   "cell_type": "code",
   "execution_count": 9,
   "metadata": {},
   "outputs": [
    {
     "name": "stderr",
     "output_type": "stream",
     "text": [
      "┌ Info: Solving sample with BaseModel() | Jobs: 3 | Sites: 3\n",
      "└ @ Main /Users/sebastiangrandaaltamirano/Documents/Tech/Academic/M2 ROAD/Courses/2. Gestion des opérations et planification de la production/Projet/job-scheduling/main.jl:49\n",
      "┌ Info: Solution is valid : no overlapping assignments and positive objective value\n",
      "└ @ Main /Users/sebastiangrandaaltamirano/Documents/Tech/Academic/M2 ROAD/Courses/2. Gestion des opérations et planification de la production/Projet/job-scheduling/src/services/outputs.jl:105\n"
     ]
    },
    {
     "name": "stdout",
     "output_type": "stream",
     "text": [
      "Set parameter Username\n",
      "Academic license - for non-commercial use only - expires 2024-10-19\n",
      "Set parameter TimeLimit to value 3600\n"
     ]
    },
    {
     "name": "stderr",
     "output_type": "stream",
     "text": [
      "┌ Info: Opened sites: 3 / 4\n",
      "└ @ Main /Users/sebastiangrandaaltamirano/Documents/Tech/Academic/M2 ROAD/Courses/2. Gestion des opérations et planification de la production/Projet/job-scheduling/src/services/outputs.jl:88\n",
      "┌ Info: Assignments: 3 / 3\n",
      "└ @ Main /Users/sebastiangrandaaltamirano/Documents/Tech/Academic/M2 ROAD/Courses/2. Gestion des opérations et planification de la production/Projet/job-scheduling/src/services/outputs.jl:89\n",
      "┌ Info: Objective value: 678.8 | Execution time: 0.5953\n",
      "└ @ Main /Users/sebastiangrandaaltamirano/Documents/Tech/Academic/M2 ROAD/Courses/2. Gestion des opérations et planification de la production/Projet/job-scheduling/src/services/outputs.jl:90\n",
      "┌ Info: Site SITE-1 \n",
      "│ Assignment : JOB-1@SITE-1 | Machine Usage : [Window(32, 57)] | Duration : 26 | Travel time : 31 | Tardiness : 0 | Earliest start (release time) : 32 | Latest start time (based on due date) : 346 | \n",
      "└ @ Main /Users/sebastiangrandaaltamirano/Documents/Tech/Academic/M2 ROAD/Courses/2. Gestion des opérations et planification de la production/Projet/job-scheduling/src/services/outputs.jl:96\n",
      "┌ Info: Site SITE-2 \n",
      "└ @ Main /Users/sebastiangrandaaltamirano/Documents/Tech/Academic/M2 ROAD/Courses/2. Gestion des opérations et planification de la production/Projet/job-scheduling/src/services/outputs.jl:96\n",
      "┌ Info: Site SITE-3 \n",
      "│ Assignment : JOB-3@SITE-3 | Machine Usage : [Window(35, 76)] | Duration : 42 | Travel time : 34 | Tardiness : 0 | Earliest start (release time) : 35 | Latest start time (based on due date) : 330 | \n",
      "│ Assignment : JOB-2@SITE-3 | Machine Usage : [Window(77, 171)] | Duration : 95 | Travel time : 21 | Tardiness : 64 | Earliest start (release time) : 22 | Latest start time (based on due date) : 277 | \n",
      "└ @ Main /Users/sebastiangrandaaltamirano/Documents/Tech/Academic/M2 ROAD/Courses/2. Gestion des opérations et planification de la production/Projet/job-scheduling/src/services/outputs.jl:96\n",
      "┌ Info: 3×5 DataFrame\n",
      "│  Row │ job_idx  site_idx  start_at  finish_at  due_date\n",
      "│      │ Int64    Int64     Int64     Int64      Int64\n",
      "│ ─────┼──────────────────────────────────────────────────\n",
      "│    1 │       1         1        32         57       100\n",
      "│    2 │       2         3        77        171       128\n",
      "│    3 │       3         3        35         76       127\n",
      "└ @ Main /Users/sebastiangrandaaltamirano/Documents/Tech/Academic/M2 ROAD/Courses/2. Gestion des opérations et planification de la production/Projet/job-scheduling/src/services/outputs.jl:246\n",
      "┌ Info: Solution recorded in benchmark file\n",
      "└ @ Main /Users/sebastiangrandaaltamirano/Documents/Tech/Academic/M2 ROAD/Courses/2. Gestion des opérations et planification de la production/Projet/job-scheduling/src/services/outputs.jl:262\n"
     ]
    }
   ],
   "source": [
    "args = Dict(\n",
    "    \"instance\" => PMSLPData(), # sample\n",
    "    \"model\" => \"BaseModel\", # MP1, MP2\n",
    "    \"limit\" => 1 * 60 * 60,\n",
    "    \"benchmark\" => true,\n",
    "    \"verbose\" => false,\n",
    ")\n",
    "\n",
    "solution = execute(args)"
   ]
  },
  {
   "cell_type": "code",
   "execution_count": 10,
   "metadata": {},
   "outputs": [],
   "source": [
    "@assert objective_value(solution) == 678.8"
   ]
  },
  {
   "cell_type": "code",
   "execution_count": 4,
   "metadata": {},
   "outputs": [
    {
     "name": "stderr",
     "output_type": "stream",
     "text": [
      "┌ Info: Solving A_instance_2_2_0 with BaseModel() | Jobs: 10 | Sites: 10\n",
      "└ @ Main /Users/sebastiangrandaaltamirano/Documents/Tech/Academic/M2 ROAD/Courses/2. Gestion des opérations et planification de la production/Projet/job-scheduling/main.jl:49\n",
      "┌ Info: Solution is valid : no overlapping assignments and positive objective value\n",
      "└ @ Main /Users/sebastiangrandaaltamirano/Documents/Tech/Academic/M2 ROAD/Courses/2. Gestion des opérations et planification de la production/Projet/job-scheduling/src/services/outputs.jl:103\n"
     ]
    },
    {
     "name": "stdout",
     "output_type": "stream",
     "text": [
      "Set parameter Username\n",
      "Academic license - for non-commercial use only - expires 2024-10-19\n",
      "Set parameter TimeLimit to value 3600\n"
     ]
    },
    {
     "name": "stderr",
     "output_type": "stream",
     "text": [
      "┌ Info: Opened sites: 2 / 4\n",
      "└ @ Main /Users/sebastiangrandaaltamirano/Documents/Tech/Academic/M2 ROAD/Courses/2. Gestion des opérations et planification de la production/Projet/job-scheduling/src/services/outputs.jl:86\n",
      "┌ Info: Assignments: 10 / 10\n",
      "└ @ Main /Users/sebastiangrandaaltamirano/Documents/Tech/Academic/M2 ROAD/Courses/2. Gestion des opérations et planification de la production/Projet/job-scheduling/src/services/outputs.jl:87\n",
      "┌ Info: Objective value: 1987.2 | Execution time: 11.0286\n",
      "└ @ Main /Users/sebastiangrandaaltamirano/Documents/Tech/Academic/M2 ROAD/Courses/2. Gestion des opérations et planification de la production/Projet/job-scheduling/src/services/outputs.jl:88\n",
      "┌ Info: Site SITE-1 \n",
      "│ Assignment : JOB-1@SITE-1 | Machine Usage : [Window(32, 57)] | Duration : 26 | Travel time : 31 | Tardiness : 0 | Earliest start (release time) : 32 | Latest start time (based on due date) : 750 | \n",
      "│ Assignment : JOB-7@SITE-1 | Machine Usage : [Window(58, 60)] | Duration : 3 | Travel time : 48 | Tardiness : 0 | Earliest start (release time) : 49 | Latest start time (based on due date) : 773 | \n",
      "│ Assignment : JOB-9@SITE-1 | Machine Usage : [Window(78, 140)] | Duration : 63 | Travel time : 32 | Tardiness : 0 | Earliest start (release time) : 33 | Latest start time (based on due date) : 713 | \n",
      "│ Assignment : JOB-8@SITE-1 | Machine Usage : [Window(148, 223)] | Duration : 76 | Travel time : 12 | Tardiness : 0 | Earliest start (release time) : 13 | Latest start time (based on due date) : 700 | \n",
      "└ @ Main /Users/sebastiangrandaaltamirano/Documents/Tech/Academic/M2 ROAD/Courses/2. Gestion des opérations et planification de la production/Projet/job-scheduling/src/services/outputs.jl:94\n",
      "┌ Info: Site SITE-3 \n",
      "│ Assignment : JOB-5@SITE-3 | Machine Usage : [Window(22, 54)] | Duration : 33 | Travel time : 21 | Tardiness : 0 | Earliest start (release time) : 22 | Latest start time (based on due date) : 743 | \n",
      "│ Assignment : JOB-4@SITE-3 | Machine Usage : [Window(55, 129)] | Duration : 75 | Travel time : 29 | Tardiness : 0 | Earliest start (release time) : 30 | Latest start time (based on due date) : 701 | \n",
      "│ Assignment : JOB-6@SITE-3 | Machine Usage : [Window(130, 168)] | Duration : 39 | Travel time : 41 | Tardiness : 0 | Earliest start (release time) : 42 | Latest start time (based on due date) : 737 | \n",
      "│ Assignment : JOB-3@SITE-3 | Machine Usage : [Window(169, 210)] | Duration : 42 | Travel time : 34 | Tardiness : 37 | Earliest start (release time) : 35 | Latest start time (based on due date) : 734 | \n",
      "│ Assignment : JOB-10@SITE-3 | Machine Usage : [Window(211, 301)] | Duration : 91 | Travel time : 31 | Tardiness : 110 | Earliest start (release time) : 32 | Latest start time (based on due date) : 685 | \n",
      "│ Assignment : JOB-2@SITE-3 | Machine Usage : [Window(302, 396)] | Duration : 95 | Travel time : 21 | Tardiness : 189 | Earliest start (release time) : 22 | Latest start time (based on due date) : 681 | \n",
      "└ @ Main /Users/sebastiangrandaaltamirano/Documents/Tech/Academic/M2 ROAD/Courses/2. Gestion des opérations et planification de la production/Projet/job-scheduling/src/services/outputs.jl:94\n",
      "┌ Info: Solution recorded in benchmark file\n",
      "└ @ Main /Users/sebastiangrandaaltamirano/Documents/Tech/Academic/M2 ROAD/Courses/2. Gestion des opérations et planification de la production/Projet/job-scheduling/src/services/outputs.jl:257\n"
     ]
    }
   ],
   "source": [
    "args = Dict(\n",
    "    \"filename\" => \"A_instance_2_2_0\", \n",
    "    \"model\" => \"BaseModel\", # MP1, MP2\n",
    "    \"limit\" => 1 * 60 * 60,\n",
    "    \"benchmark\" => true,\n",
    "    \"verbose\" => false,\n",
    ")\n",
    "\n",
    "execute(args)"
   ]
  },
  {
   "cell_type": "markdown",
   "metadata": {},
   "source": [
    "## Benchmark"
   ]
  },
  {
   "cell_type": "code",
   "execution_count": 5,
   "metadata": {},
   "outputs": [
    {
     "data": {
      "text/plain": [
       "2-element Vector{String}:\n",
       " \"BaseModel\"\n",
       " \"MIP2\""
      ]
     },
     "metadata": {},
     "output_type": "display_data"
    }
   ],
   "source": [
    "instances = [\"A_instance_2_2_4\", \"A_instance_2_2_6\", \"A_instance_2_2_10\"]\n",
    "models = [\"BaseModel\", \"MIP2\"]\n",
    "\n",
    "# benchmark!(instances, models)"
   ]
  },
  {
   "cell_type": "code",
   "execution_count": 7,
   "metadata": {},
   "outputs": [
    {
     "name": "stderr",
     "output_type": "stream",
     "text": [
      "┌ Info: Sampling 3 instances\n",
      "└ @ Main /Users/sebastiangrandaaltamirano/Documents/Tech/Academic/M2 ROAD/Courses/2. Gestion des opérations et planification de la production/Projet/job-scheduling/src/services/benchmark.jl:30\n",
      "┌ Info: Benchmarking BaseModel on A_instance_6_8_13\n",
      "└ @ Main /Users/sebastiangrandaaltamirano/Documents/Tech/Academic/M2 ROAD/Courses/2. Gestion des opérations et planification de la production/Projet/job-scheduling/src/services/benchmark.jl:9\n",
      "┌ Info: Solving BaseModel() | Jobs: 40 | Sites: 40\n",
      "└ @ Main /Users/sebastiangrandaaltamirano/Documents/Tech/Academic/M2 ROAD/Courses/2. Gestion des opérations et planification de la production/Projet/job-scheduling/main.jl:49\n",
      "┌ Info: Solution is valid : no overlapping assignments and positive objective value\n",
      "└ @ Main /Users/sebastiangrandaaltamirano/Documents/Tech/Academic/M2 ROAD/Courses/2. Gestion des opérations et planification de la production/Projet/job-scheduling/src/services/outputs.jl:103\n",
      "┌ Info: Opened sites: 3 / 6\n",
      "└ @ Main /Users/sebastiangrandaaltamirano/Documents/Tech/Academic/M2 ROAD/Courses/2. Gestion des opérations et planification de la production/Projet/job-scheduling/src/services/outputs.jl:86\n",
      "┌ Info: Assignments: 40 / 40\n",
      "└ @ Main /Users/sebastiangrandaaltamirano/Documents/Tech/Academic/M2 ROAD/Courses/2. Gestion des opérations et planification de la production/Projet/job-scheduling/src/services/outputs.jl:87\n",
      "┌ Info: Objective value: 8577.267 | Execution time: 3063.3474\n",
      "└ @ Main /Users/sebastiangrandaaltamirano/Documents/Tech/Academic/M2 ROAD/Courses/2. Gestion des opérations et planification de la production/Projet/job-scheduling/src/services/outputs.jl:88\n",
      "┌ Info: Site SITE-2 \n",
      "│ Assignment : JOB-35@SITE-2 | Machine Usage : [Window(13, 30)] | Duration : 18 | Travel time : 12 | Tardiness : 0 | Earliest start (release time) : 13 | Latest start time (based on due date) : 2324 | \n",
      "│ Assignment : JOB-31@SITE-2 | Machine Usage : [Window(42, 69)] | Duration : 28 | Travel time : 41 | Tardiness : 0 | Earliest start (release time) : 42 | Latest start time (based on due date) : 2314 | \n",
      "│ Assignment : JOB-6@SITE-2 | Machine Usage : [Window(70, 144)] | Duration : 75 | Travel time : 55 | Tardiness : 40 | Earliest start (release time) : 56 | Latest start time (based on due date) : 2267 | \n",
      "│ Assignment : JOB-19@SITE-2 | Machine Usage : [Window(145, 228)] | Duration : 84 | Travel time : 23 | Tardiness : 121 | Earliest start (release time) : 24 | Latest start time (based on due date) : 2258 | \n",
      "│ Assignment : JOB-7@SITE-2 | Machine Usage : [Window(229, 289)] | Duration : 61 | Travel time : 26 | Tardiness : 19 | Earliest start (release time) : 27 | Latest start time (based on due date) : 2281 | \n",
      "│ Assignment : JOB-34@SITE-2 | Machine Usage : [Window(290, 336)] | Duration : 47 | Travel time : 5 | Tardiness : 0 | Earliest start (release time) : 6 | Latest start time (based on due date) : 2295 | \n",
      "│ Assignment : JOB-8@SITE-2 | Machine Usage : [Window(337, 432)] | Duration : 96 | Travel time : 38 | Tardiness : 269 | Earliest start (release time) : 39 | Latest start time (based on due date) : 2246 | \n",
      "└ @ Main /Users/sebastiangrandaaltamirano/Documents/Tech/Academic/M2 ROAD/Courses/2. Gestion des opérations et planification de la production/Projet/job-scheduling/src/services/outputs.jl:94\n",
      "┌ Info: Site SITE-3 \n",
      "│ Assignment : JOB-15@SITE-3 | Machine Usage : [Window(5, 49)] | Duration : 45 | Travel time : 4 | Tardiness : 0 | Earliest start (release time) : 5 | Latest start time (based on due date) : 2297 | \n",
      "│ Assignment : JOB-24@SITE-3 | Machine Usage : [Window(50, 66)] | Duration : 17 | Travel time : 24 | Tardiness : 29 | Earliest start (release time) : 25 | Latest start time (based on due date) : 2325 | \n",
      "│ Assignment : JOB-38@SITE-3 | Machine Usage : [Window(67, 132)] | Duration : 66 | Travel time : 41 | Tardiness : 53 | Earliest start (release time) : 42 | Latest start time (based on due date) : 2276 | \n",
      "│ Assignment : JOB-3@SITE-3 | Machine Usage : [Window(133, 194)] | Duration : 62 | Travel time : 51 | Tardiness : 7 | Earliest start (release time) : 52 | Latest start time (based on due date) : 2280 | \n",
      "│ Assignment : JOB-4@SITE-3 | Machine Usage : [Window(195, 210)] | Duration : 16 | Travel time : 1 | Tardiness : 12 | Earliest start (release time) : 2 | Latest start time (based on due date) : 2326 | \n",
      "│ Assignment : JOB-26@SITE-3 | Machine Usage : [Window(211, 244)] | Duration : 34 | Travel time : 35 | Tardiness : 32 | Earliest start (release time) : 36 | Latest start time (based on due date) : 2308 | \n",
      "│ Assignment : JOB-28@SITE-3 | Machine Usage : [Window(245, 248)] | Duration : 4 | Travel time : 22 | Tardiness : 0 | Earliest start (release time) : 23 | Latest start time (based on due date) : 2338 | \n",
      "│ Assignment : JOB-27@SITE-3 | Machine Usage : [Window(249, 293)] | Duration : 45 | Travel time : 17 | Tardiness : 49 | Earliest start (release time) : 18 | Latest start time (based on due date) : 2297 | \n",
      "│ Assignment : JOB-17@SITE-3 | Machine Usage : [Window(294, 359)] | Duration : 66 | Travel time : 21 | Tardiness : 6 | Earliest start (release time) : 22 | Latest start time (based on due date) : 2276 | \n",
      "│ Assignment : JOB-22@SITE-3 | Machine Usage : [Window(360, 374)] | Duration : 15 | Travel time : 25 | Tardiness : 0 | Earliest start (release time) : 26 | Latest start time (based on due date) : 2327 | \n",
      "│ Assignment : JOB-14@SITE-3 | Machine Usage : [Window(375, 417)] | Duration : 43 | Travel time : 27 | Tardiness : 0 | Earliest start (release time) : 28 | Latest start time (based on due date) : 2299 | \n",
      "│ Assignment : JOB-36@SITE-3 | Machine Usage : [Window(418, 486)] | Duration : 69 | Travel time : 14 | Tardiness : 253 | Earliest start (release time) : 15 | Latest start time (based on due date) : 2273 | \n",
      "│ Assignment : JOB-39@SITE-3 | Machine Usage : [Window(487, 570)] | Duration : 84 | Travel time : 2 | Tardiness : 437 | Earliest start (release time) : 3 | Latest start time (based on due date) : 2258 | \n",
      "│ Assignment : JOB-2@SITE-3 | Machine Usage : [Window(571, 655)] | Duration : 85 | Travel time : 41 | Tardiness : 405 | Earliest start (release time) : 42 | Latest start time (based on due date) : 2257 | \n",
      "│ Assignment : JOB-33@SITE-3 | Machine Usage : [Window(656, 754)] | Duration : 99 | Travel time : 22 | Tardiness : 633 | Earliest start (release time) : 23 | Latest start time (based on due date) : 2243 | \n",
      "└ @ Main /Users/sebastiangrandaaltamirano/Documents/Tech/Academic/M2 ROAD/Courses/2. Gestion des opérations et planification de la production/Projet/job-scheduling/src/services/outputs.jl:94\n",
      "┌ Info: Site SITE-5 \n",
      "│ Assignment : JOB-32@SITE-5 | Machine Usage : [Window(2, 29)] | Duration : 28 | Travel time : 1 | Tardiness : 0 | Earliest start (release time) : 2 | Latest start time (based on due date) : 2314 | \n",
      "│ Assignment : JOB-21@SITE-5 | Machine Usage : [Window(30, 44)] | Duration : 15 | Travel time : 29 | Tardiness : 0 | Earliest start (release time) : 30 | Latest start time (based on due date) : 2327 | \n",
      "│ Assignment : JOB-40@SITE-5 | Machine Usage : [Window(45, 66)] | Duration : 22 | Travel time : 43 | Tardiness : 1 | Earliest start (release time) : 44 | Latest start time (based on due date) : 2320 | \n",
      "│ Assignment : JOB-13@SITE-5 | Machine Usage : [Window(67, 118)] | Duration : 52 | Travel time : 41 | Tardiness : 25 | Earliest start (release time) : 42 | Latest start time (based on due date) : 2290 | \n",
      "│ Assignment : JOB-30@SITE-5 | Machine Usage : [Window(119, 170)] | Duration : 52 | Travel time : 32 | Tardiness : 30 | Earliest start (release time) : 33 | Latest start time (based on due date) : 2290 | \n",
      "│ Assignment : JOB-9@SITE-5 | Machine Usage : [Window(171, 219)] | Duration : 49 | Travel time : 40 | Tardiness : 44 | Earliest start (release time) : 41 | Latest start time (based on due date) : 2293 | \n",
      "│ Assignment : JOB-12@SITE-5 | Machine Usage : [Window(220, 230)] | Duration : 11 | Travel time : 46 | Tardiness : 0 | Earliest start (release time) : 47 | Latest start time (based on due date) : 2331 | \n",
      "│ Assignment : JOB-37@SITE-5 | Machine Usage : [Window(231, 276)] | Duration : 46 | Travel time : 30 | Tardiness : 8 | Earliest start (release time) : 31 | Latest start time (based on due date) : 2296 | \n",
      "│ Assignment : JOB-1@SITE-5 | Machine Usage : [Window(277, 328)] | Duration : 52 | Travel time : 33 | Tardiness : 16 | Earliest start (release time) : 34 | Latest start time (based on due date) : 2290 | \n",
      "│ Assignment : JOB-5@SITE-5 | Machine Usage : [Window(329, 361)] | Duration : 33 | Travel time : 36 | Tardiness : 0 | Earliest start (release time) : 37 | Latest start time (based on due date) : 2309 | \n",
      "│ Assignment : JOB-29@SITE-5 | Machine Usage : [Window(362, 392)] | Duration : 31 | Travel time : 28 | Tardiness : 0 | Earliest start (release time) : 29 | Latest start time (based on due date) : 2311 | \n",
      "│ Assignment : JOB-20@SITE-5 | Machine Usage : [Window(393, 462)] | Duration : 70 | Travel time : 13 | Tardiness : 74 | Earliest start (release time) : 14 | Latest start time (based on due date) : 2272 | \n",
      "│ Assignment : JOB-10@SITE-5 | Machine Usage : [Window(463, 535)] | Duration : 73 | Travel time : 24 | Tardiness : 77 | Earliest start (release time) : 25 | Latest start time (based on due date) : 2269 | \n",
      "│ Assignment : JOB-23@SITE-5 | Machine Usage : [Window(536, 610)] | Duration : 75 | Travel time : 40 | Tardiness : 470 | Earliest start (release time) : 41 | Latest start time (based on due date) : 2267 | \n",
      "│ Assignment : JOB-11@SITE-5 | Machine Usage : [Window(611, 686)] | Duration : 76 | Travel time : 33 | Tardiness : 161 | Earliest start (release time) : 34 | Latest start time (based on due date) : 2266 | \n",
      "│ Assignment : JOB-16@SITE-5 | Machine Usage : [Window(687, 768)] | Duration : 82 | Travel time : 25 | Tardiness : 332 | Earliest start (release time) : 26 | Latest start time (based on due date) : 2260 | \n",
      "│ Assignment : JOB-18@SITE-5 | Machine Usage : [Window(769, 852)] | Duration : 84 | Travel time : 21 | Tardiness : 353 | Earliest start (release time) : 22 | Latest start time (based on due date) : 2258 | \n",
      "│ Assignment : JOB-25@SITE-5 | Machine Usage : [Window(853, 943)] | Duration : 91 | Travel time : 42 | Tardiness : 621 | Earliest start (release time) : 43 | Latest start time (based on due date) : 2251 | \n",
      "└ @ Main /Users/sebastiangrandaaltamirano/Documents/Tech/Academic/M2 ROAD/Courses/2. Gestion des opérations et planification de la production/Projet/job-scheduling/src/services/outputs.jl:94\n"
     ]
    }
   ],
   "source": [
    "models = [\"BaseModel\", \"MIP1\", \"MP2\"]\n",
    "benchmark!(models, 10)"
   ]
  },
  {
   "cell_type": "code",
   "execution_count": null,
   "metadata": {},
   "outputs": [],
   "source": [
    "1"
   ]
  }
 ],
 "metadata": {
  "kernelspec": {
   "display_name": "Julia 1.9.3",
   "language": "julia",
   "name": "julia-1.9"
  },
  "language_info": {
   "file_extension": ".jl",
   "mimetype": "application/julia",
   "name": "julia",
   "version": "1.9.3"
  }
 },
 "nbformat": 4,
 "nbformat_minor": 2
}
