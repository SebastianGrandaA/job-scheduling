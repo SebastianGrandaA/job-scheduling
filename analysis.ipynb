{
 "cells": [
  {
   "cell_type": "code",
   "execution_count": 1,
   "metadata": {},
   "outputs": [
    {
     "name": "stderr",
     "output_type": "stream",
     "text": [
      "\u001b[32m\u001b[1m  Activating\u001b[22m\u001b[39m project at `~/Documents/Tech/Academic/M2 ROAD/Courses/2. Gestion des opérations et planification de la production/Projet/job-scheduling`\n"
     ]
    }
   ],
   "source": [
    "include(\"main.jl\")"
   ]
  },
  {
   "cell_type": "code",
   "execution_count": 2,
   "metadata": {},
   "outputs": [
    {
     "name": "stderr",
     "output_type": "stream",
     "text": [
      "┌ Info: Solving BaseModel() | Jobs: 10 | Sites: 10\n",
      "└ @ Main /Users/sebastiangrandaaltamirano/Documents/Tech/Academic/M2 ROAD/Courses/2. Gestion des opérations et planification de la production/Projet/job-scheduling/main.jl:48\n",
      "┌ Info: Solution is valid : no overlapping assignments and positive objective value\n",
      "└ @ Main /Users/sebastiangrandaaltamirano/Documents/Tech/Academic/M2 ROAD/Courses/2. Gestion des opérations et planification de la production/Projet/job-scheduling/src/services/outputs.jl:103\n"
     ]
    },
    {
     "name": "stdout",
     "output_type": "stream",
     "text": [
      "Set parameter Username\n",
      "Academic license - for non-commercial use only - expires 2024-10-19\n",
      "Set parameter TimeLimit to value 3600\n"
     ]
    },
    {
     "name": "stderr",
     "output_type": "stream",
     "text": [
      "┌ Info: Opened sites: 2 / 4\n",
      "└ @ Main /Users/sebastiangrandaaltamirano/Documents/Tech/Academic/M2 ROAD/Courses/2. Gestion des opérations et planification de la production/Projet/job-scheduling/src/services/outputs.jl:86\n",
      "┌ Info: Assignments: 10 / 10\n",
      "└ @ Main /Users/sebastiangrandaaltamirano/Documents/Tech/Academic/M2 ROAD/Courses/2. Gestion des opérations et planification de la production/Projet/job-scheduling/src/services/outputs.jl:87\n",
      "┌ Info: Objective value: 243.294 | Execution time: 15.6807\n",
      "└ @ Main /Users/sebastiangrandaaltamirano/Documents/Tech/Academic/M2 ROAD/Courses/2. Gestion des opérations et planification de la production/Projet/job-scheduling/src/services/outputs.jl:88\n",
      "┌ Info: Site SITE-1 \n",
      "│ Assignment : JOB-8@SITE-1 | Machine Usage : [Window(3, 78)] | Duration : 76 | Travel time : 2 | Tardiness : 0 | Earliest start (release time) : 3 | Latest start time (based on due date) : 492 | \n",
      "│ Assignment : JOB-7@SITE-1 | Machine Usage : [Window(80, 82)] | Duration : 3 | Travel time : 5 | Tardiness : 0 | Earliest start (release time) : 6 | Latest start time (based on due date) : 565 | \n",
      "│ Assignment : JOB-9@SITE-1 | Machine Usage : [Window(105, 167)] | Duration : 63 | Travel time : 4 | Tardiness : 0 | Earliest start (release time) : 5 | Latest start time (based on due date) : 505 | \n",
      "│ Assignment : JOB-1@SITE-1 | Machine Usage : [Window(195, 220)] | Duration : 26 | Travel time : 4 | Tardiness : 0 | Earliest start (release time) : 5 | Latest start time (based on due date) : 542 | \n",
      "└ @ Main /Users/sebastiangrandaaltamirano/Documents/Tech/Academic/M2 ROAD/Courses/2. Gestion des opérations et planification de la production/Projet/job-scheduling/src/services/outputs.jl:94\n",
      "┌ Info: Site SITE-3 \n",
      "│ Assignment : JOB-4@SITE-3 | Machine Usage : [Window(4, 78)] | Duration : 75 | Travel time : 3 | Tardiness : 0 | Earliest start (release time) : 4 | Latest start time (based on due date) : 493 | \n",
      "│ Assignment : JOB-3@SITE-3 | Machine Usage : [Window(79, 120)] | Duration : 42 | Travel time : 4 | Tardiness : 0 | Earliest start (release time) : 5 | Latest start time (based on due date) : 526 | \n",
      "│ Assignment : JOB-6@SITE-3 | Machine Usage : [Window(121, 159)] | Duration : 39 | Travel time : 5 | Tardiness : 0 | Earliest start (release time) : 6 | Latest start time (based on due date) : 529 | \n",
      "│ Assignment : JOB-5@SITE-3 | Machine Usage : [Window(160, 192)] | Duration : 33 | Travel time : 3 | Tardiness : 0 | Earliest start (release time) : 4 | Latest start time (based on due date) : 535 | \n",
      "│ Assignment : JOB-10@SITE-3 | Machine Usage : [Window(193, 283)] | Duration : 91 | Travel time : 4 | Tardiness : 65 | Earliest start (release time) : 5 | Latest start time (based on due date) : 477 | \n",
      "│ Assignment : JOB-2@SITE-3 | Machine Usage : [Window(284, 378)] | Duration : 95 | Travel time : 3 | Tardiness : 153 | Earliest start (release time) : 4 | Latest start time (based on due date) : 473 | \n",
      "└ @ Main /Users/sebastiangrandaaltamirano/Documents/Tech/Academic/M2 ROAD/Courses/2. Gestion des opérations et planification de la production/Projet/job-scheduling/src/services/outputs.jl:94\n",
      "┌ Info: Solution recorded in benchmark file\n",
      "└ @ Main /Users/sebastiangrandaaltamirano/Documents/Tech/Academic/M2 ROAD/Courses/2. Gestion des opérations et planification de la production/Projet/job-scheduling/src/services/outputs.jl:249\n"
     ]
    }
   ],
   "source": [
    "args = Dict(\n",
    "    \"instance\" => \"A_instance_2_2_0\", \n",
    "    \"model\" => \"BaseModel\", # MP1, MP2\n",
    "    \"limit\" => 1 * 60 * 60,\n",
    "    \"benchmark\" => true,\n",
    "    \"verbose\" => false,\n",
    ")\n",
    "\n",
    "execute!(args)"
   ]
  },
  {
   "cell_type": "markdown",
   "metadata": {},
   "source": [
    "## Benchmark"
   ]
  },
  {
   "cell_type": "code",
   "execution_count": 3,
   "metadata": {},
   "outputs": [
    {
     "data": {
      "text/plain": [
       "benchmark! (generic function with 3 methods)"
      ]
     },
     "metadata": {},
     "output_type": "display_data"
    }
   ],
   "source": [
    "using StatsBase\n",
    "\n",
    "\"\"\"\n",
    "This can be ran in parallel for each instance-model, however it is not recommended to avoid resource competition.\n",
    "\"\"\"\n",
    "function benchmark!(instances::Vector{String}, models::Vector{String})\n",
    "    for instance in instances\n",
    "        for model in models\n",
    "            @info \"Benchmarking $(model) on $(instance)\"\n",
    "            args = Dict(\n",
    "                \"instance\" => instance, \n",
    "                \"model\" => model,\n",
    "                \"limit\" => 1 * 60 * 60,\n",
    "                \"benchmark\" => true,\n",
    "                \"verbose\" => false,\n",
    "            )\n",
    "            execute!(args)\n",
    "        end\n",
    "    end\n",
    "end\n",
    "\n",
    "function benchmark!(models::Vector{String}, sample_size::Int64=1)\n",
    "    path = joinpath(pwd(), \"inputs\", \"instances\")\n",
    "    instances = [\n",
    "        replace(file, \".dat\" => \"\")\n",
    "        for file in readdir(path) if isfile(joinpath(path, file))\n",
    "    ]\n",
    "    if sample_size > 1\n",
    "        instances = sample(instances, sample_size, replace=false)\n",
    "        @info \"Sampling $(length(instances)) instances\"\n",
    "    end\n",
    "\n",
    "    benchmark!(instances, models)\n",
    "end"
   ]
  },
  {
   "cell_type": "code",
   "execution_count": 5,
   "metadata": {},
   "outputs": [
    {
     "name": "stderr",
     "output_type": "stream",
     "text": [
      "┌ Info: Benchmarking BaseModel on A_instance_2_2_4\n",
      "└ @ Main /Users/sebastiangrandaaltamirano/Documents/Tech/Academic/M2 ROAD/Courses/2. Gestion des opérations et planification de la production/Projet/job-scheduling/analysis.ipynb:9\n",
      "┌ Info: Solving BaseModel() | Jobs: 20 | Sites: 20\n",
      "└ @ Main /Users/sebastiangrandaaltamirano/Documents/Tech/Academic/M2 ROAD/Courses/2. Gestion des opérations et planification de la production/Projet/job-scheduling/main.jl:48\n"
     ]
    },
    {
     "name": "stdout",
     "output_type": "stream",
     "text": [
      "Set parameter Username\n",
      "Academic license - for non-commercial use only - expires 2024-10-19\n",
      "Set parameter TimeLimit to value 3600\n"
     ]
    },
    {
     "name": "stderr",
     "output_type": "stream",
     "text": [
      "┌ Info: Solution is valid : no overlapping assignments and positive objective value\n",
      "└ @ Main /Users/sebastiangrandaaltamirano/Documents/Tech/Academic/M2 ROAD/Courses/2. Gestion des opérations et planification de la production/Projet/job-scheduling/src/services/outputs.jl:103\n",
      "┌ Info: Opened sites: 2 / 4\n",
      "└ @ Main /Users/sebastiangrandaaltamirano/Documents/Tech/Academic/M2 ROAD/Courses/2. Gestion des opérations et planification de la production/Projet/job-scheduling/src/services/outputs.jl:86\n",
      "┌ Info: Assignments: 20 / 20\n",
      "└ @ Main /Users/sebastiangrandaaltamirano/Documents/Tech/Academic/M2 ROAD/Courses/2. Gestion des opérations et planification de la production/Projet/job-scheduling/src/services/outputs.jl:87\n",
      "┌ Info: Objective value: 480.9079 | Execution time: 416.241\n",
      "└ @ Main /Users/sebastiangrandaaltamirano/Documents/Tech/Academic/M2 ROAD/Courses/2. Gestion des opérations et planification de la production/Projet/job-scheduling/src/services/outputs.jl:88\n",
      "┌ Info: Site SITE-1 \n",
      "│ Assignment : JOB-7@SITE-1 | Machine Usage : [Window(3, 34)] | Duration : 32 | Travel time : 2 | Tardiness : 0 | Earliest start (release time) : 3 | Latest start time (based on due date) : 1143 | \n",
      "│ Assignment : JOB-2@SITE-1 | Machine Usage : [Window(35, 117)] | Duration : 83 | Travel time : 3 | Tardiness : 0 | Earliest start (release time) : 4 | Latest start time (based on due date) : 1092 | \n",
      "│ Assignment : JOB-14@SITE-1 | Machine Usage : [Window(118, 203)] | Duration : 86 | Travel time : 4 | Tardiness : 0 | Earliest start (release time) : 5 | Latest start time (based on due date) : 1089 | \n",
      "│ Assignment : JOB-11@SITE-1 | Machine Usage : [Window(204, 286)] | Duration : 83 | Travel time : 4 | Tardiness : 0 | Earliest start (release time) : 5 | Latest start time (based on due date) : 1092 | \n",
      "│ Assignment : JOB-20@SITE-1 | Machine Usage : [Window(287, 343)] | Duration : 57 | Travel time : 3 | Tardiness : 0 | Earliest start (release time) : 4 | Latest start time (based on due date) : 1118 | \n",
      "│ Assignment : JOB-5@SITE-1 | Machine Usage : [Window(344, 359)] | Duration : 16 | Travel time : 6 | Tardiness : 0 | Earliest start (release time) : 7 | Latest start time (based on due date) : 1159 | \n",
      "│ Assignment : JOB-19@SITE-1 | Machine Usage : [Window(360, 440)] | Duration : 81 | Travel time : 3 | Tardiness : 0 | Earliest start (release time) : 4 | Latest start time (based on due date) : 1094 | \n",
      "│ Assignment : JOB-9@SITE-1 | Machine Usage : [Window(441, 503)] | Duration : 63 | Travel time : 5 | Tardiness : 0 | Earliest start (release time) : 6 | Latest start time (based on due date) : 1112 | \n",
      "│ Assignment : JOB-16@SITE-1 | Machine Usage : [Window(504, 567)] | Duration : 64 | Travel time : 1 | Tardiness : 63 | Earliest start (release time) : 2 | Latest start time (based on due date) : 1111 | \n",
      "└ @ Main /Users/sebastiangrandaaltamirano/Documents/Tech/Academic/M2 ROAD/Courses/2. Gestion des opérations et planification de la production/Projet/job-scheduling/src/services/outputs.jl:94\n",
      "┌ Info: Site SITE-3 \n",
      "│ Assignment : JOB-18@SITE-3 | Machine Usage : [Window(3, 57)] | Duration : 55 | Travel time : 2 | Tardiness : 0 | Earliest start (release time) : 3 | Latest start time (based on due date) : 1120 | \n",
      "│ Assignment : JOB-12@SITE-3 | Machine Usage : [Window(58, 143)] | Duration : 86 | Travel time : 6 | Tardiness : 0 | Earliest start (release time) : 7 | Latest start time (based on due date) : 1089 | \n",
      "│ Assignment : JOB-10@SITE-3 | Machine Usage : [Window(144, 204)] | Duration : 61 | Travel time : 2 | Tardiness : 0 | Earliest start (release time) : 3 | Latest start time (based on due date) : 1114 | \n",
      "│ Assignment : JOB-8@SITE-3 | Machine Usage : [Window(205, 288)] | Duration : 84 | Travel time : 4 | Tardiness : 0 | Earliest start (release time) : 5 | Latest start time (based on due date) : 1091 | \n",
      "│ Assignment : JOB-17@SITE-3 | Machine Usage : [Window(289, 324)] | Duration : 36 | Travel time : 6 | Tardiness : 0 | Earliest start (release time) : 7 | Latest start time (based on due date) : 1139 | \n",
      "│ Assignment : JOB-4@SITE-3 | Machine Usage : [Window(325, 361)] | Duration : 37 | Travel time : 4 | Tardiness : 0 | Earliest start (release time) : 5 | Latest start time (based on due date) : 1138 | \n",
      "│ Assignment : JOB-3@SITE-3 | Machine Usage : [Window(362, 392)] | Duration : 31 | Travel time : 3 | Tardiness : 0 | Earliest start (release time) : 4 | Latest start time (based on due date) : 1144 | \n",
      "│ Assignment : JOB-1@SITE-3 | Machine Usage : [Window(393, 420)] | Duration : 28 | Travel time : 5 | Tardiness : 0 | Earliest start (release time) : 6 | Latest start time (based on due date) : 1147 | \n",
      "│ Assignment : JOB-13@SITE-3 | Machine Usage : [Window(421, 468)] | Duration : 48 | Travel time : 4 | Tardiness : 0 | Earliest start (release time) : 5 | Latest start time (based on due date) : 1127 | \n",
      "│ Assignment : JOB-15@SITE-3 | Machine Usage : [Window(469, 508)] | Duration : 40 | Travel time : 4 | Tardiness : 20 | Earliest start (release time) : 5 | Latest start time (based on due date) : 1135 | \n",
      "│ Assignment : JOB-6@SITE-3 | Machine Usage : [Window(509, 589)] | Duration : 81 | Travel time : 3 | Tardiness : 77 | Earliest start (release time) : 4 | Latest start time (based on due date) : 1094 | \n",
      "└ @ Main /Users/sebastiangrandaaltamirano/Documents/Tech/Academic/M2 ROAD/Courses/2. Gestion des opérations et planification de la production/Projet/job-scheduling/src/services/outputs.jl:94\n",
      "┌ Info: Solution recorded in benchmark file\n",
      "└ @ Main /Users/sebastiangrandaaltamirano/Documents/Tech/Academic/M2 ROAD/Courses/2. Gestion des opérations et planification de la production/Projet/job-scheduling/src/services/outputs.jl:249\n",
      "┌ Info: Benchmarking MP2 on A_instance_2_2_4\n",
      "└ @ Main /Users/sebastiangrandaaltamirano/Documents/Tech/Academic/M2 ROAD/Courses/2. Gestion des opérations et planification de la production/Projet/job-scheduling/analysis.ipynb:9\n",
      "┌ Info: Solving PMSLPMIPModel2() | Jobs: 20 | Sites: 20\n",
      "└ @ Main /Users/sebastiangrandaaltamirano/Documents/Tech/Academic/M2 ROAD/Courses/2. Gestion des opérations et planification de la production/Projet/job-scheduling/main.jl:48\n",
      "┌ Warning: Model is not optimal\n",
      "└ @ Main /Users/sebastiangrandaaltamirano/Documents/Tech/Academic/M2 ROAD/Courses/2. Gestion des opérations et planification de la production/Projet/job-scheduling/src/services/outputs.jl:15\n"
     ]
    },
    {
     "name": "stdout",
     "output_type": "stream",
     "text": [
      "Set parameter Username\n",
      "Academic license - for non-commercial use only - expires 2024-10-19\n",
      "Set parameter TimeLimit to value 3600\n"
     ]
    },
    {
     "name": "stderr",
     "output_type": "stream",
     "text": [
      "┌ Info: Solution is valid : no overlapping assignments and positive objective value\n",
      "└ @ Main /Users/sebastiangrandaaltamirano/Documents/Tech/Academic/M2 ROAD/Courses/2. Gestion des opérations et planification de la production/Projet/job-scheduling/src/services/outputs.jl:103\n",
      "┌ Info: Opened sites: 2 / 4\n",
      "└ @ Main /Users/sebastiangrandaaltamirano/Documents/Tech/Academic/M2 ROAD/Courses/2. Gestion des opérations et planification de la production/Projet/job-scheduling/src/services/outputs.jl:86\n",
      "┌ Info: Assignments: 20 / 20\n",
      "└ @ Main /Users/sebastiangrandaaltamirano/Documents/Tech/Academic/M2 ROAD/Courses/2. Gestion des opérations et planification de la production/Projet/job-scheduling/src/services/outputs.jl:87\n",
      "┌ Info: Objective value: 482.1079 | Execution time: 3600.2506\n",
      "└ @ Main /Users/sebastiangrandaaltamirano/Documents/Tech/Academic/M2 ROAD/Courses/2. Gestion des opérations et planification de la production/Projet/job-scheduling/src/services/outputs.jl:88\n",
      "┌ Info: Site SITE-1 \n",
      "│ Assignment : JOB-7@SITE-1 | Machine Usage : [Window(3, 34)] | Duration : 32 | Travel time : 2 | Tardiness : 0 | Earliest start (release time) : 3 | Latest start time (based on due date) : 1143 | \n",
      "│ Assignment : JOB-20@SITE-1 | Machine Usage : [Window(35, 91)] | Duration : 57 | Travel time : 3 | Tardiness : 0 | Earliest start (release time) : 4 | Latest start time (based on due date) : 1118 | \n",
      "│ Assignment : JOB-14@SITE-1 | Machine Usage : [Window(92, 177)] | Duration : 86 | Travel time : 4 | Tardiness : 0 | Earliest start (release time) : 5 | Latest start time (based on due date) : 1089 | \n",
      "│ Assignment : JOB-2@SITE-1 | Machine Usage : [Window(178, 260)] | Duration : 83 | Travel time : 3 | Tardiness : 0 | Earliest start (release time) : 4 | Latest start time (based on due date) : 1092 | \n",
      "│ Assignment : JOB-11@SITE-1 | Machine Usage : [Window(261, 343)] | Duration : 83 | Travel time : 4 | Tardiness : 0 | Earliest start (release time) : 5 | Latest start time (based on due date) : 1092 | \n",
      "│ Assignment : JOB-5@SITE-1 | Machine Usage : [Window(344, 359)] | Duration : 16 | Travel time : 6 | Tardiness : 0 | Earliest start (release time) : 7 | Latest start time (based on due date) : 1159 | \n",
      "│ Assignment : JOB-19@SITE-1 | Machine Usage : [Window(360, 440)] | Duration : 81 | Travel time : 3 | Tardiness : 0 | Earliest start (release time) : 4 | Latest start time (based on due date) : 1094 | \n",
      "│ Assignment : JOB-9@SITE-1 | Machine Usage : [Window(441, 503)] | Duration : 63 | Travel time : 5 | Tardiness : 2 | Earliest start (release time) : 6 | Latest start time (based on due date) : 1112 | \n",
      "│ Assignment : JOB-16@SITE-1 | Machine Usage : [Window(504, 567)] | Duration : 64 | Travel time : 1 | Tardiness : 65 | Earliest start (release time) : 2 | Latest start time (based on due date) : 1111 | \n",
      "└ @ Main /Users/sebastiangrandaaltamirano/Documents/Tech/Academic/M2 ROAD/Courses/2. Gestion des opérations et planification de la production/Projet/job-scheduling/src/services/outputs.jl:94\n",
      "┌ Info: Site SITE-3 \n",
      "│ Assignment : JOB-10@SITE-3 | Machine Usage : [Window(3, 63)] | Duration : 61 | Travel time : 2 | Tardiness : 0 | Earliest start (release time) : 3 | Latest start time (based on due date) : 1114 | \n",
      "│ Assignment : JOB-1@SITE-3 | Machine Usage : [Window(64, 91)] | Duration : 28 | Travel time : 5 | Tardiness : 0 | Earliest start (release time) : 6 | Latest start time (based on due date) : 1147 | \n",
      "│ Assignment : JOB-8@SITE-3 | Machine Usage : [Window(92, 175)] | Duration : 84 | Travel time : 4 | Tardiness : 0 | Earliest start (release time) : 5 | Latest start time (based on due date) : 1091 | \n",
      "│ Assignment : JOB-4@SITE-3 | Machine Usage : [Window(176, 212)] | Duration : 37 | Travel time : 4 | Tardiness : 0 | Earliest start (release time) : 5 | Latest start time (based on due date) : 1138 | \n",
      "│ Assignment : JOB-18@SITE-3 | Machine Usage : [Window(213, 267)] | Duration : 55 | Travel time : 2 | Tardiness : 0 | Earliest start (release time) : 3 | Latest start time (based on due date) : 1120 | \n",
      "│ Assignment : JOB-3@SITE-3 | Machine Usage : [Window(268, 298)] | Duration : 31 | Travel time : 3 | Tardiness : 0 | Earliest start (release time) : 4 | Latest start time (based on due date) : 1144 | \n",
      "│ Assignment : JOB-17@SITE-3 | Machine Usage : [Window(299, 334)] | Duration : 36 | Travel time : 6 | Tardiness : 0 | Earliest start (release time) : 7 | Latest start time (based on due date) : 1139 | \n",
      "│ Assignment : JOB-12@SITE-3 | Machine Usage : [Window(335, 420)] | Duration : 86 | Travel time : 6 | Tardiness : 0 | Earliest start (release time) : 7 | Latest start time (based on due date) : 1089 | \n",
      "│ Assignment : JOB-13@SITE-3 | Machine Usage : [Window(421, 468)] | Duration : 48 | Travel time : 4 | Tardiness : 0 | Earliest start (release time) : 5 | Latest start time (based on due date) : 1127 | \n",
      "│ Assignment : JOB-15@SITE-3 | Machine Usage : [Window(469, 508)] | Duration : 40 | Travel time : 4 | Tardiness : 22 | Earliest start (release time) : 5 | Latest start time (based on due date) : 1135 | \n",
      "│ Assignment : JOB-6@SITE-3 | Machine Usage : [Window(509, 589)] | Duration : 81 | Travel time : 3 | Tardiness : 79 | Earliest start (release time) : 4 | Latest start time (based on due date) : 1094 | \n",
      "└ @ Main /Users/sebastiangrandaaltamirano/Documents/Tech/Academic/M2 ROAD/Courses/2. Gestion des opérations et planification de la production/Projet/job-scheduling/src/services/outputs.jl:94\n"
     ]
    },
    {
     "name": "stderr",
     "output_type": "stream",
     "text": [
      "┌ Info: Solution recorded in benchmark file\n",
      "└ @ Main /Users/sebastiangrandaaltamirano/Documents/Tech/Academic/M2 ROAD/Courses/2. Gestion des opérations et planification de la production/Projet/job-scheduling/src/services/outputs.jl:249\n",
      "┌ Info: Benchmarking BaseModel on A_instance_2_2_6\n",
      "└ @ Main /Users/sebastiangrandaaltamirano/Documents/Tech/Academic/M2 ROAD/Courses/2. Gestion des opérations et planification de la production/Projet/job-scheduling/analysis.ipynb:9\n",
      "┌ Info: Solving BaseModel() | Jobs: 20 | Sites: 20\n",
      "└ @ Main /Users/sebastiangrandaaltamirano/Documents/Tech/Academic/M2 ROAD/Courses/2. Gestion des opérations et planification de la production/Projet/job-scheduling/main.jl:48\n",
      "┌ Info: Solution is valid : no overlapping assignments and positive objective value\n",
      "└ @ Main /Users/sebastiangrandaaltamirano/Documents/Tech/Academic/M2 ROAD/Courses/2. Gestion des opérations et planification de la production/Projet/job-scheduling/src/services/outputs.jl:103\n"
     ]
    },
    {
     "name": "stdout",
     "output_type": "stream",
     "text": [
      "Set parameter Username\n",
      "Academic license - for non-commercial use only - expires 2024-10-19\n",
      "Set parameter TimeLimit to value 3600\n"
     ]
    },
    {
     "name": "stderr",
     "output_type": "stream",
     "text": [
      "┌ Info: Opened sites: 4 / 8\n",
      "└ @ Main /Users/sebastiangrandaaltamirano/Documents/Tech/Academic/M2 ROAD/Courses/2. Gestion des opérations et planification de la production/Projet/job-scheduling/src/services/outputs.jl:86\n",
      "┌ Info: Assignments: 20 / 20\n",
      "└ @ Main /Users/sebastiangrandaaltamirano/Documents/Tech/Academic/M2 ROAD/Courses/2. Gestion des opérations et planification de la production/Projet/job-scheduling/src/services/outputs.jl:87\n",
      "┌ Info: Objective value: 430.5803 | Execution time: 92.8209\n",
      "└ @ Main /Users/sebastiangrandaaltamirano/Documents/Tech/Academic/M2 ROAD/Courses/2. Gestion des opérations et planification de la production/Projet/job-scheduling/src/services/outputs.jl:88\n",
      "┌ Info: Site SITE-2 \n",
      "│ Assignment : JOB-6@SITE-2 | Machine Usage : [Window(5, 31)] | Duration : 27 | Travel time : 4 | Tardiness : 0 | Earliest start (release time) : 5 | Latest start time (based on due date) : 1139 | \n",
      "│ Assignment : JOB-7@SITE-2 | Machine Usage : [Window(32, 130)] | Duration : 99 | Travel time : 5 | Tardiness : 0 | Earliest start (release time) : 6 | Latest start time (based on due date) : 1067 | \n",
      "│ Assignment : JOB-12@SITE-2 | Machine Usage : [Window(132, 223)] | Duration : 92 | Travel time : 3 | Tardiness : 0 | Earliest start (release time) : 4 | Latest start time (based on due date) : 1074 | \n",
      "└ @ Main /Users/sebastiangrandaaltamirano/Documents/Tech/Academic/M2 ROAD/Courses/2. Gestion des opérations et planification de la production/Projet/job-scheduling/src/services/outputs.jl:94\n",
      "┌ Info: Site SITE-4 \n",
      "│ Assignment : JOB-5@SITE-4 | Machine Usage : [Window(4, 46)] | Duration : 43 | Travel time : 3 | Tardiness : 0 | Earliest start (release time) : 4 | Latest start time (based on due date) : 1123 | \n",
      "│ Assignment : JOB-3@SITE-4 | Machine Usage : [Window(47, 91)] | Duration : 45 | Travel time : 4 | Tardiness : 0 | Earliest start (release time) : 5 | Latest start time (based on due date) : 1121 | \n",
      "│ Assignment : JOB-1@SITE-4 | Machine Usage : [Window(92, 165)] | Duration : 74 | Travel time : 3 | Tardiness : 0 | Earliest start (release time) : 4 | Latest start time (based on due date) : 1092 | \n",
      "│ Assignment : JOB-17@SITE-4 | Machine Usage : [Window(166, 211)] | Duration : 46 | Travel time : 4 | Tardiness : 0 | Earliest start (release time) : 5 | Latest start time (based on due date) : 1120 | \n",
      "│ Assignment : JOB-4@SITE-4 | Machine Usage : [Window(212, 300)] | Duration : 89 | Travel time : 2 | Tardiness : 98 | Earliest start (release time) : 3 | Latest start time (based on due date) : 1077 | \n",
      "└ @ Main /Users/sebastiangrandaaltamirano/Documents/Tech/Academic/M2 ROAD/Courses/2. Gestion des opérations et planification de la production/Projet/job-scheduling/src/services/outputs.jl:94\n",
      "┌ Info: Site SITE-5 \n",
      "│ Assignment : JOB-15@SITE-5 | Machine Usage : [Window(3, 24)] | Duration : 22 | Travel time : 2 | Tardiness : 0 | Earliest start (release time) : 3 | Latest start time (based on due date) : 1144 | \n",
      "│ Assignment : JOB-20@SITE-5 | Machine Usage : [Window(25, 104)] | Duration : 80 | Travel time : 3 | Tardiness : 0 | Earliest start (release time) : 4 | Latest start time (based on due date) : 1086 | \n",
      "│ Assignment : JOB-19@SITE-5 | Machine Usage : [Window(105, 186)] | Duration : 82 | Travel time : 4 | Tardiness : 0 | Earliest start (release time) : 5 | Latest start time (based on due date) : 1084 | \n",
      "│ Assignment : JOB-14@SITE-5 | Machine Usage : [Window(187, 219)] | Duration : 33 | Travel time : 1 | Tardiness : 0 | Earliest start (release time) : 2 | Latest start time (based on due date) : 1133 | \n",
      "│ Assignment : JOB-8@SITE-5 | Machine Usage : [Window(220, 230)] | Duration : 11 | Travel time : 2 | Tardiness : 0 | Earliest start (release time) : 3 | Latest start time (based on due date) : 1155 | \n",
      "│ Assignment : JOB-2@SITE-5 | Machine Usage : [Window(231, 325)] | Duration : 95 | Travel time : 3 | Tardiness : 106 | Earliest start (release time) : 4 | Latest start time (based on due date) : 1071 | \n",
      "└ @ Main /Users/sebastiangrandaaltamirano/Documents/Tech/Academic/M2 ROAD/Courses/2. Gestion des opérations et planification de la production/Projet/job-scheduling/src/services/outputs.jl:94\n",
      "┌ Info: Site SITE-8 \n",
      "│ Assignment : JOB-18@SITE-8 | Machine Usage : [Window(2, 55)] | Duration : 54 | Travel time : 1 | Tardiness : 0 | Earliest start (release time) : 2 | Latest start time (based on due date) : 1112 | \n",
      "│ Assignment : JOB-9@SITE-8 | Machine Usage : [Window(56, 114)] | Duration : 59 | Travel time : 4 | Tardiness : 0 | Earliest start (release time) : 5 | Latest start time (based on due date) : 1107 | \n",
      "│ Assignment : JOB-13@SITE-8 | Machine Usage : [Window(115, 162)] | Duration : 48 | Travel time : 2 | Tardiness : 0 | Earliest start (release time) : 3 | Latest start time (based on due date) : 1118 | \n",
      "│ Assignment : JOB-10@SITE-8 | Machine Usage : [Window(163, 207)] | Duration : 45 | Travel time : 2 | Tardiness : 0 | Earliest start (release time) : 3 | Latest start time (based on due date) : 1121 | \n",
      "│ Assignment : JOB-11@SITE-8 | Machine Usage : [Window(208, 219)] | Duration : 12 | Travel time : 1 | Tardiness : 0 | Earliest start (release time) : 2 | Latest start time (based on due date) : 1154 | \n",
      "│ Assignment : JOB-16@SITE-8 | Machine Usage : [Window(220, 302)] | Duration : 83 | Travel time : 2 | Tardiness : 69 | Earliest start (release time) : 3 | Latest start time (based on due date) : 1083 | \n",
      "└ @ Main /Users/sebastiangrandaaltamirano/Documents/Tech/Academic/M2 ROAD/Courses/2. Gestion des opérations et planification de la production/Projet/job-scheduling/src/services/outputs.jl:94\n",
      "┌ Info: Solution recorded in benchmark file\n",
      "└ @ Main /Users/sebastiangrandaaltamirano/Documents/Tech/Academic/M2 ROAD/Courses/2. Gestion des opérations et planification de la production/Projet/job-scheduling/src/services/outputs.jl:249\n",
      "┌ Info: Benchmarking MP2 on A_instance_2_2_6\n",
      "└ @ Main /Users/sebastiangrandaaltamirano/Documents/Tech/Academic/M2 ROAD/Courses/2. Gestion des opérations et planification de la production/Projet/job-scheduling/analysis.ipynb:9\n",
      "┌ Info: Solving PMSLPMIPModel2() | Jobs: 20 | Sites: 20\n",
      "└ @ Main /Users/sebastiangrandaaltamirano/Documents/Tech/Academic/M2 ROAD/Courses/2. Gestion des opérations et planification de la production/Projet/job-scheduling/main.jl:48\n"
     ]
    },
    {
     "name": "stdout",
     "output_type": "stream",
     "text": [
      "Set parameter Username\n",
      "Academic license - for non-commercial use only - expires 2024-10-19\n",
      "Set parameter TimeLimit to value 3600\n"
     ]
    },
    {
     "name": "stderr",
     "output_type": "stream",
     "text": [
      "┌ Info: Solution is valid : no overlapping assignments and positive objective value\n",
      "└ @ Main /Users/sebastiangrandaaltamirano/Documents/Tech/Academic/M2 ROAD/Courses/2. Gestion des opérations et planification de la production/Projet/job-scheduling/src/services/outputs.jl:103\n",
      "┌ Info: Opened sites: 4 / 8\n",
      "└ @ Main /Users/sebastiangrandaaltamirano/Documents/Tech/Academic/M2 ROAD/Courses/2. Gestion des opérations et planification de la production/Projet/job-scheduling/src/services/outputs.jl:86\n",
      "┌ Info: Assignments: 20 / 20\n",
      "└ @ Main /Users/sebastiangrandaaltamirano/Documents/Tech/Academic/M2 ROAD/Courses/2. Gestion des opérations et planification de la production/Projet/job-scheduling/src/services/outputs.jl:87\n",
      "┌ Info: Objective value: 431.1203 | Execution time: 446.5286\n",
      "└ @ Main /Users/sebastiangrandaaltamirano/Documents/Tech/Academic/M2 ROAD/Courses/2. Gestion des opérations et planification de la production/Projet/job-scheduling/src/services/outputs.jl:88\n",
      "┌ Info: Site SITE-2 \n",
      "│ Assignment : JOB-7@SITE-2 | Machine Usage : [Window(6, 104)] | Duration : 99 | Travel time : 5 | Tardiness : 0 | Earliest start (release time) : 6 | Latest start time (based on due date) : 1067 | \n",
      "│ Assignment : JOB-6@SITE-2 | Machine Usage : [Window(122, 148)] | Duration : 27 | Travel time : 4 | Tardiness : 0 | Earliest start (release time) : 5 | Latest start time (based on due date) : 1139 | \n",
      "│ Assignment : JOB-12@SITE-2 | Machine Usage : [Window(149, 240)] | Duration : 92 | Travel time : 3 | Tardiness : 0 | Earliest start (release time) : 4 | Latest start time (based on due date) : 1074 | \n",
      "└ @ Main /Users/sebastiangrandaaltamirano/Documents/Tech/Academic/M2 ROAD/Courses/2. Gestion des opérations et planification de la production/Projet/job-scheduling/src/services/outputs.jl:94\n",
      "┌ Info: Site SITE-4 \n",
      "│ Assignment : JOB-1@SITE-4 | Machine Usage : [Window(4, 77)] | Duration : 74 | Travel time : 3 | Tardiness : 0 | Earliest start (release time) : 4 | Latest start time (based on due date) : 1092 | \n",
      "│ Assignment : JOB-3@SITE-4 | Machine Usage : [Window(78, 122)] | Duration : 45 | Travel time : 4 | Tardiness : 0 | Earliest start (release time) : 5 | Latest start time (based on due date) : 1121 | \n",
      "│ Assignment : JOB-5@SITE-4 | Machine Usage : [Window(123, 165)] | Duration : 43 | Travel time : 3 | Tardiness : 0 | Earliest start (release time) : 4 | Latest start time (based on due date) : 1123 | \n",
      "│ Assignment : JOB-17@SITE-4 | Machine Usage : [Window(166, 211)] | Duration : 46 | Travel time : 4 | Tardiness : 0 | Earliest start (release time) : 5 | Latest start time (based on due date) : 1120 | \n",
      "│ Assignment : JOB-4@SITE-4 | Machine Usage : [Window(212, 300)] | Duration : 89 | Travel time : 2 | Tardiness : 100 | Earliest start (release time) : 3 | Latest start time (based on due date) : 1077 | \n",
      "└ @ Main /Users/sebastiangrandaaltamirano/Documents/Tech/Academic/M2 ROAD/Courses/2. Gestion des opérations et planification de la production/Projet/job-scheduling/src/services/outputs.jl:94\n",
      "┌ Info: Site SITE-5 \n",
      "│ Assignment : JOB-15@SITE-5 | Machine Usage : [Window(3, 24)] | Duration : 22 | Travel time : 2 | Tardiness : 0 | Earliest start (release time) : 3 | Latest start time (based on due date) : 1144 | \n",
      "│ Assignment : JOB-19@SITE-5 | Machine Usage : [Window(25, 106)] | Duration : 82 | Travel time : 4 | Tardiness : 0 | Earliest start (release time) : 5 | Latest start time (based on due date) : 1084 | \n",
      "│ Assignment : JOB-20@SITE-5 | Machine Usage : [Window(107, 186)] | Duration : 80 | Travel time : 3 | Tardiness : 0 | Earliest start (release time) : 4 | Latest start time (based on due date) : 1086 | \n",
      "│ Assignment : JOB-14@SITE-5 | Machine Usage : [Window(187, 219)] | Duration : 33 | Travel time : 1 | Tardiness : 0 | Earliest start (release time) : 2 | Latest start time (based on due date) : 1133 | \n",
      "│ Assignment : JOB-8@SITE-5 | Machine Usage : [Window(220, 230)] | Duration : 11 | Travel time : 2 | Tardiness : 0 | Earliest start (release time) : 3 | Latest start time (based on due date) : 1155 | \n",
      "│ Assignment : JOB-2@SITE-5 | Machine Usage : [Window(231, 325)] | Duration : 95 | Travel time : 3 | Tardiness : 108 | Earliest start (release time) : 4 | Latest start time (based on due date) : 1071 | \n",
      "└ @ Main /Users/sebastiangrandaaltamirano/Documents/Tech/Academic/M2 ROAD/Courses/2. Gestion des opérations et planification de la production/Projet/job-scheduling/src/services/outputs.jl:94\n",
      "┌ Info: Site SITE-8 \n",
      "│ Assignment : JOB-18@SITE-8 | Machine Usage : [Window(2, 55)] | Duration : 54 | Travel time : 1 | Tardiness : 0 | Earliest start (release time) : 2 | Latest start time (based on due date) : 1112 | \n",
      "│ Assignment : JOB-10@SITE-8 | Machine Usage : [Window(56, 100)] | Duration : 45 | Travel time : 2 | Tardiness : 0 | Earliest start (release time) : 3 | Latest start time (based on due date) : 1121 | \n",
      "│ Assignment : JOB-9@SITE-8 | Machine Usage : [Window(101, 159)] | Duration : 59 | Travel time : 4 | Tardiness : 0 | Earliest start (release time) : 5 | Latest start time (based on due date) : 1107 | \n",
      "│ Assignment : JOB-13@SITE-8 | Machine Usage : [Window(160, 207)] | Duration : 48 | Travel time : 2 | Tardiness : 0 | Earliest start (release time) : 3 | Latest start time (based on due date) : 1118 | \n",
      "│ Assignment : JOB-11@SITE-8 | Machine Usage : [Window(208, 219)] | Duration : 12 | Travel time : 1 | Tardiness : 0 | Earliest start (release time) : 2 | Latest start time (based on due date) : 1154 | \n",
      "│ Assignment : JOB-16@SITE-8 | Machine Usage : [Window(220, 302)] | Duration : 83 | Travel time : 2 | Tardiness : 71 | Earliest start (release time) : 3 | Latest start time (based on due date) : 1083 | \n",
      "└ @ Main /Users/sebastiangrandaaltamirano/Documents/Tech/Academic/M2 ROAD/Courses/2. Gestion des opérations et planification de la production/Projet/job-scheduling/src/services/outputs.jl:94\n",
      "┌ Info: Solution recorded in benchmark file\n",
      "└ @ Main /Users/sebastiangrandaaltamirano/Documents/Tech/Academic/M2 ROAD/Courses/2. Gestion des opérations et planification de la production/Projet/job-scheduling/src/services/outputs.jl:249\n",
      "┌ Info: Benchmarking BaseModel on A_instance_2_2_10\n",
      "└ @ Main /Users/sebastiangrandaaltamirano/Documents/Tech/Academic/M2 ROAD/Courses/2. Gestion des opérations et planification de la production/Projet/job-scheduling/analysis.ipynb:9\n",
      "┌ Info: Solving BaseModel() | Jobs: 30 | Sites: 30\n",
      "└ @ Main /Users/sebastiangrandaaltamirano/Documents/Tech/Academic/M2 ROAD/Courses/2. Gestion des opérations et planification de la production/Projet/job-scheduling/main.jl:48\n",
      "┌ Info: Solution is valid : no overlapping assignments and positive objective value\n",
      "└ @ Main /Users/sebastiangrandaaltamirano/Documents/Tech/Academic/M2 ROAD/Courses/2. Gestion des opérations et planification de la production/Projet/job-scheduling/src/services/outputs.jl:103\n"
     ]
    },
    {
     "name": "stdout",
     "output_type": "stream",
     "text": [
      "Set parameter Username\n",
      "Academic license - for non-commercial use only - expires 2024-10-19\n",
      "Set parameter TimeLimit to value 3600\n"
     ]
    },
    {
     "name": "stderr",
     "output_type": "stream",
     "text": [
      "┌ Info: Opened sites: 4 / 8\n",
      "└ @ Main /Users/sebastiangrandaaltamirano/Documents/Tech/Academic/M2 ROAD/Courses/2. Gestion des opérations et planification de la production/Projet/job-scheduling/src/services/outputs.jl:86\n",
      "┌ Info: Assignments: 30 / 30\n",
      "└ @ Main /Users/sebastiangrandaaltamirano/Documents/Tech/Academic/M2 ROAD/Courses/2. Gestion des opérations et planification de la production/Projet/job-scheduling/src/services/outputs.jl:87\n",
      "┌ Info: Objective value: 595.9358 | Execution time: 862.8569\n",
      "└ @ Main /Users/sebastiangrandaaltamirano/Documents/Tech/Academic/M2 ROAD/Courses/2. Gestion des opérations et planification de la production/Projet/job-scheduling/src/services/outputs.jl:88\n",
      "┌ Info: Site SITE-1 \n",
      "│ Assignment : JOB-4@SITE-1 | Machine Usage : [Window(2, 7)] | Duration : 6 | Travel time : 1 | Tardiness : 0 | Earliest start (release time) : 2 | Latest start time (based on due date) : 1785 | \n",
      "│ Assignment : JOB-10@SITE-1 | Machine Usage : [Window(8, 56)] | Duration : 49 | Travel time : 2 | Tardiness : 0 | Earliest start (release time) : 3 | Latest start time (based on due date) : 1742 | \n",
      "│ Assignment : JOB-30@SITE-1 | Machine Usage : [Window(57, 81)] | Duration : 25 | Travel time : 4 | Tardiness : 0 | Earliest start (release time) : 5 | Latest start time (based on due date) : 1766 | \n",
      "│ Assignment : JOB-17@SITE-1 | Machine Usage : [Window(82, 160)] | Duration : 79 | Travel time : 2 | Tardiness : 0 | Earliest start (release time) : 3 | Latest start time (based on due date) : 1712 | \n",
      "│ Assignment : JOB-15@SITE-1 | Machine Usage : [Window(161, 186)] | Duration : 26 | Travel time : 3 | Tardiness : 0 | Earliest start (release time) : 4 | Latest start time (based on due date) : 1765 | \n",
      "│ Assignment : JOB-2@SITE-1 | Machine Usage : [Window(187, 280)] | Duration : 94 | Travel time : 3 | Tardiness : 0 | Earliest start (release time) : 4 | Latest start time (based on due date) : 1697 | \n",
      "│ Assignment : JOB-16@SITE-1 | Machine Usage : [Window(281, 289)] | Duration : 9 | Travel time : 4 | Tardiness : 0 | Earliest start (release time) : 5 | Latest start time (based on due date) : 1782 | \n",
      "│ Assignment : JOB-7@SITE-1 | Machine Usage : [Window(290, 386)] | Duration : 97 | Travel time : 3 | Tardiness : 16 | Earliest start (release time) : 4 | Latest start time (based on due date) : 1694 | \n",
      "└ @ Main /Users/sebastiangrandaaltamirano/Documents/Tech/Academic/M2 ROAD/Courses/2. Gestion des opérations et planification de la production/Projet/job-scheduling/src/services/outputs.jl:94\n",
      "┌ Info: Site SITE-3 \n",
      "│ Assignment : JOB-12@SITE-3 | Machine Usage : [Window(2, 60)] | Duration : 59 | Travel time : 1 | Tardiness : 0 | Earliest start (release time) : 2 | Latest start time (based on due date) : 1732 | \n",
      "│ Assignment : JOB-29@SITE-3 | Machine Usage : [Window(61, 129)] | Duration : 69 | Travel time : 3 | Tardiness : 0 | Earliest start (release time) : 4 | Latest start time (based on due date) : 1722 | \n",
      "│ Assignment : JOB-21@SITE-3 | Machine Usage : [Window(130, 165)] | Duration : 36 | Travel time : 1 | Tardiness : 0 | Earliest start (release time) : 2 | Latest start time (based on due date) : 1755 | \n",
      "│ Assignment : JOB-6@SITE-3 | Machine Usage : [Window(166, 254)] | Duration : 89 | Travel time : 4 | Tardiness : 0 | Earliest start (release time) : 5 | Latest start time (based on due date) : 1702 | \n",
      "│ Assignment : JOB-26@SITE-3 | Machine Usage : [Window(255, 336)] | Duration : 82 | Travel time : 4 | Tardiness : 0 | Earliest start (release time) : 5 | Latest start time (based on due date) : 1709 | \n",
      "│ Assignment : JOB-24@SITE-3 | Machine Usage : [Window(337, 353)] | Duration : 17 | Travel time : 2 | Tardiness : 0 | Earliest start (release time) : 3 | Latest start time (based on due date) : 1774 | \n",
      "│ Assignment : JOB-1@SITE-3 | Machine Usage : [Window(354, 398)] | Duration : 45 | Travel time : 3 | Tardiness : 41 | Earliest start (release time) : 4 | Latest start time (based on due date) : 1746 | \n",
      "│ Assignment : JOB-3@SITE-3 | Machine Usage : [Window(399, 488)] | Duration : 90 | Travel time : 3 | Tardiness : 162 | Earliest start (release time) : 4 | Latest start time (based on due date) : 1701 | \n",
      "│ Assignment : JOB-27@SITE-3 | Machine Usage : [Window(489, 587)] | Duration : 99 | Travel time : 3 | Tardiness : 274 | Earliest start (release time) : 4 | Latest start time (based on due date) : 1692 | \n",
      "└ @ Main /Users/sebastiangrandaaltamirano/Documents/Tech/Academic/M2 ROAD/Courses/2. Gestion des opérations et planification de la production/Projet/job-scheduling/src/services/outputs.jl:94\n",
      "┌ Info: Site SITE-4 \n",
      "│ Assignment : JOB-25@SITE-4 | Machine Usage : [Window(3, 33)] | Duration : 31 | Travel time : 2 | Tardiness : 0 | Earliest start (release time) : 3 | Latest start time (based on due date) : 1760 | \n",
      "│ Assignment : JOB-22@SITE-4 | Machine Usage : [Window(34, 86)] | Duration : 53 | Travel time : 4 | Tardiness : 0 | Earliest start (release time) : 5 | Latest start time (based on due date) : 1738 | \n",
      "│ Assignment : JOB-5@SITE-4 | Machine Usage : [Window(87, 169)] | Duration : 83 | Travel time : 3 | Tardiness : 0 | Earliest start (release time) : 4 | Latest start time (based on due date) : 1708 | \n",
      "│ Assignment : JOB-11@SITE-4 | Machine Usage : [Window(170, 197)] | Duration : 28 | Travel time : 5 | Tardiness : 0 | Earliest start (release time) : 6 | Latest start time (based on due date) : 1763 | \n",
      "│ Assignment : JOB-9@SITE-4 | Machine Usage : [Window(198, 241)] | Duration : 44 | Travel time : 2 | Tardiness : 0 | Earliest start (release time) : 3 | Latest start time (based on due date) : 1747 | \n",
      "│ Assignment : JOB-23@SITE-4 | Machine Usage : [Window(242, 282)] | Duration : 41 | Travel time : 3 | Tardiness : 0 | Earliest start (release time) : 4 | Latest start time (based on due date) : 1750 | \n",
      "│ Assignment : JOB-20@SITE-4 | Machine Usage : [Window(283, 360)] | Duration : 78 | Travel time : 2 | Tardiness : 0 | Earliest start (release time) : 3 | Latest start time (based on due date) : 1713 | \n",
      "│ Assignment : JOB-8@SITE-4 | Machine Usage : [Window(361, 375)] | Duration : 15 | Travel time : 3 | Tardiness : 0 | Earliest start (release time) : 4 | Latest start time (based on due date) : 1776 | \n",
      "│ Assignment : JOB-14@SITE-4 | Machine Usage : [Window(376, 466)] | Duration : 91 | Travel time : 4 | Tardiness : 75 | Earliest start (release time) : 5 | Latest start time (based on due date) : 1700 | \n",
      "└ @ Main /Users/sebastiangrandaaltamirano/Documents/Tech/Academic/M2 ROAD/Courses/2. Gestion des opérations et planification de la production/Projet/job-scheduling/src/services/outputs.jl:94\n",
      "┌ Info: Site SITE-5 \n",
      "│ Assignment : JOB-19@SITE-5 | Machine Usage : [Window(4, 102)] | Duration : 99 | Travel time : 3 | Tardiness : 0 | Earliest start (release time) : 4 | Latest start time (based on due date) : 1692 | \n",
      "│ Assignment : JOB-13@SITE-5 | Machine Usage : [Window(103, 177)] | Duration : 75 | Travel time : 4 | Tardiness : 0 | Earliest start (release time) : 5 | Latest start time (based on due date) : 1716 | \n",
      "│ Assignment : JOB-28@SITE-5 | Machine Usage : [Window(178, 264)] | Duration : 87 | Travel time : 0 | Tardiness : 0 | Earliest start (release time) : 1 | Latest start time (based on due date) : 1704 | \n",
      "│ Assignment : JOB-18@SITE-5 | Machine Usage : [Window(320, 389)] | Duration : 70 | Travel time : 2 | Tardiness : 0 | Earliest start (release time) : 3 | Latest start time (based on due date) : 1721 | \n",
      "└ @ Main /Users/sebastiangrandaaltamirano/Documents/Tech/Academic/M2 ROAD/Courses/2. Gestion des opérations et planification de la production/Projet/job-scheduling/src/services/outputs.jl:94\n",
      "┌ Info: Solution recorded in benchmark file\n",
      "└ @ Main /Users/sebastiangrandaaltamirano/Documents/Tech/Academic/M2 ROAD/Courses/2. Gestion des opérations et planification de la production/Projet/job-scheduling/src/services/outputs.jl:249\n",
      "┌ Info: Benchmarking MP2 on A_instance_2_2_10\n",
      "└ @ Main /Users/sebastiangrandaaltamirano/Documents/Tech/Academic/M2 ROAD/Courses/2. Gestion des opérations et planification de la production/Projet/job-scheduling/analysis.ipynb:9\n",
      "┌ Info: Solving PMSLPMIPModel2() | Jobs: 30 | Sites: 30\n",
      "└ @ Main /Users/sebastiangrandaaltamirano/Documents/Tech/Academic/M2 ROAD/Courses/2. Gestion des opérations et planification de la production/Projet/job-scheduling/main.jl:48\n"
     ]
    },
    {
     "name": "stdout",
     "output_type": "stream",
     "text": [
      "Set parameter Username\n",
      "Academic license - for non-commercial use only - expires 2024-10-19\n",
      "Set parameter TimeLimit to value 3600\n"
     ]
    },
    {
     "name": "stderr",
     "output_type": "stream",
     "text": [
      "┌ Warning: Model is not optimal\n",
      "└ @ Main /Users/sebastiangrandaaltamirano/Documents/Tech/Academic/M2 ROAD/Courses/2. Gestion des opérations et planification de la production/Projet/job-scheduling/src/services/outputs.jl:15\n",
      "┌ Info: Solution is valid : no overlapping assignments and positive objective value\n",
      "└ @ Main /Users/sebastiangrandaaltamirano/Documents/Tech/Academic/M2 ROAD/Courses/2. Gestion des opérations et planification de la production/Projet/job-scheduling/src/services/outputs.jl:103\n",
      "┌ Info: Opened sites: 4 / 8\n",
      "└ @ Main /Users/sebastiangrandaaltamirano/Documents/Tech/Academic/M2 ROAD/Courses/2. Gestion des opérations et planification de la production/Projet/job-scheduling/src/services/outputs.jl:86\n",
      "┌ Info: Assignments: 30 / 30\n",
      "└ @ Main /Users/sebastiangrandaaltamirano/Documents/Tech/Academic/M2 ROAD/Courses/2. Gestion des opérations et planification de la production/Projet/job-scheduling/src/services/outputs.jl:87\n",
      "┌ Info: Objective value: 596.2658 | Execution time: 3600.2956\n",
      "└ @ Main /Users/sebastiangrandaaltamirano/Documents/Tech/Academic/M2 ROAD/Courses/2. Gestion des opérations et planification de la production/Projet/job-scheduling/src/services/outputs.jl:88\n",
      "┌ Info: Site SITE-1 \n",
      "│ Assignment : JOB-4@SITE-1 | Machine Usage : [Window(2, 7)] | Duration : 6 | Travel time : 1 | Tardiness : 0 | Earliest start (release time) : 2 | Latest start time (based on due date) : 1785 | \n",
      "│ Assignment : JOB-10@SITE-1 | Machine Usage : [Window(8, 56)] | Duration : 49 | Travel time : 2 | Tardiness : 0 | Earliest start (release time) : 3 | Latest start time (based on due date) : 1742 | \n",
      "│ Assignment : JOB-15@SITE-1 | Machine Usage : [Window(57, 82)] | Duration : 26 | Travel time : 3 | Tardiness : 0 | Earliest start (release time) : 4 | Latest start time (based on due date) : 1765 | \n",
      "│ Assignment : JOB-17@SITE-1 | Machine Usage : [Window(83, 161)] | Duration : 79 | Travel time : 2 | Tardiness : 0 | Earliest start (release time) : 3 | Latest start time (based on due date) : 1712 | \n",
      "│ Assignment : JOB-2@SITE-1 | Machine Usage : [Window(162, 255)] | Duration : 94 | Travel time : 3 | Tardiness : 0 | Earliest start (release time) : 4 | Latest start time (based on due date) : 1697 | \n",
      "│ Assignment : JOB-30@SITE-1 | Machine Usage : [Window(256, 280)] | Duration : 25 | Travel time : 4 | Tardiness : 0 | Earliest start (release time) : 5 | Latest start time (based on due date) : 1766 | \n",
      "│ Assignment : JOB-16@SITE-1 | Machine Usage : [Window(281, 289)] | Duration : 9 | Travel time : 4 | Tardiness : 0 | Earliest start (release time) : 5 | Latest start time (based on due date) : 1782 | \n",
      "│ Assignment : JOB-7@SITE-1 | Machine Usage : [Window(290, 386)] | Duration : 97 | Travel time : 3 | Tardiness : 18 | Earliest start (release time) : 4 | Latest start time (based on due date) : 1694 | \n",
      "└ @ Main /Users/sebastiangrandaaltamirano/Documents/Tech/Academic/M2 ROAD/Courses/2. Gestion des opérations et planification de la production/Projet/job-scheduling/src/services/outputs.jl:94\n",
      "┌ Info: Site SITE-3 \n",
      "│ Assignment : JOB-12@SITE-3 | Machine Usage : [Window(2, 60)] | Duration : 59 | Travel time : 1 | Tardiness : 0 | Earliest start (release time) : 2 | Latest start time (based on due date) : 1732 | \n",
      "│ Assignment : JOB-29@SITE-3 | Machine Usage : [Window(61, 129)] | Duration : 69 | Travel time : 3 | Tardiness : 0 | Earliest start (release time) : 4 | Latest start time (based on due date) : 1722 | \n",
      "│ Assignment : JOB-6@SITE-3 | Machine Usage : [Window(130, 218)] | Duration : 89 | Travel time : 4 | Tardiness : 0 | Earliest start (release time) : 5 | Latest start time (based on due date) : 1702 | \n",
      "│ Assignment : JOB-21@SITE-3 | Machine Usage : [Window(219, 254)] | Duration : 36 | Travel time : 1 | Tardiness : 0 | Earliest start (release time) : 2 | Latest start time (based on due date) : 1755 | \n",
      "│ Assignment : JOB-26@SITE-3 | Machine Usage : [Window(255, 336)] | Duration : 82 | Travel time : 4 | Tardiness : 0 | Earliest start (release time) : 5 | Latest start time (based on due date) : 1709 | \n",
      "│ Assignment : JOB-24@SITE-3 | Machine Usage : [Window(337, 353)] | Duration : 17 | Travel time : 2 | Tardiness : 0 | Earliest start (release time) : 3 | Latest start time (based on due date) : 1774 | \n",
      "│ Assignment : JOB-1@SITE-3 | Machine Usage : [Window(354, 398)] | Duration : 45 | Travel time : 3 | Tardiness : 43 | Earliest start (release time) : 4 | Latest start time (based on due date) : 1746 | \n",
      "│ Assignment : JOB-3@SITE-3 | Machine Usage : [Window(399, 488)] | Duration : 90 | Travel time : 3 | Tardiness : 164 | Earliest start (release time) : 4 | Latest start time (based on due date) : 1701 | \n",
      "│ Assignment : JOB-27@SITE-3 | Machine Usage : [Window(489, 587)] | Duration : 99 | Travel time : 3 | Tardiness : 276 | Earliest start (release time) : 4 | Latest start time (based on due date) : 1692 | \n",
      "└ @ Main /Users/sebastiangrandaaltamirano/Documents/Tech/Academic/M2 ROAD/Courses/2. Gestion des opérations et planification de la production/Projet/job-scheduling/src/services/outputs.jl:94\n",
      "┌ Info: Site SITE-4 \n",
      "│ Assignment : JOB-25@SITE-4 | Machine Usage : [Window(3, 33)] | Duration : 31 | Travel time : 2 | Tardiness : 0 | Earliest start (release time) : 3 | Latest start time (based on due date) : 1760 | \n",
      "│ Assignment : JOB-20@SITE-4 | Machine Usage : [Window(34, 111)] | Duration : 78 | Travel time : 2 | Tardiness : 0 | Earliest start (release time) : 3 | Latest start time (based on due date) : 1713 | \n",
      "│ Assignment : JOB-22@SITE-4 | Machine Usage : [Window(112, 164)] | Duration : 53 | Travel time : 4 | Tardiness : 0 | Earliest start (release time) : 5 | Latest start time (based on due date) : 1738 | \n",
      "│ Assignment : JOB-9@SITE-4 | Machine Usage : [Window(165, 208)] | Duration : 44 | Travel time : 2 | Tardiness : 0 | Earliest start (release time) : 3 | Latest start time (based on due date) : 1747 | \n",
      "│ Assignment : JOB-5@SITE-4 | Machine Usage : [Window(209, 291)] | Duration : 83 | Travel time : 3 | Tardiness : 0 | Earliest start (release time) : 4 | Latest start time (based on due date) : 1708 | \n",
      "│ Assignment : JOB-11@SITE-4 | Machine Usage : [Window(292, 319)] | Duration : 28 | Travel time : 5 | Tardiness : 0 | Earliest start (release time) : 6 | Latest start time (based on due date) : 1763 | \n",
      "│ Assignment : JOB-23@SITE-4 | Machine Usage : [Window(320, 360)] | Duration : 41 | Travel time : 3 | Tardiness : 0 | Earliest start (release time) : 4 | Latest start time (based on due date) : 1750 | \n",
      "│ Assignment : JOB-8@SITE-4 | Machine Usage : [Window(361, 375)] | Duration : 15 | Travel time : 3 | Tardiness : 1 | Earliest start (release time) : 4 | Latest start time (based on due date) : 1776 | \n",
      "│ Assignment : JOB-14@SITE-4 | Machine Usage : [Window(376, 466)] | Duration : 91 | Travel time : 4 | Tardiness : 77 | Earliest start (release time) : 5 | Latest start time (based on due date) : 1700 | \n",
      "└ @ Main /Users/sebastiangrandaaltamirano/Documents/Tech/Academic/M2 ROAD/Courses/2. Gestion des opérations et planification de la production/Projet/job-scheduling/src/services/outputs.jl:94\n",
      "┌ Info: Site SITE-5 \n",
      "│ Assignment : JOB-13@SITE-5 | Machine Usage : [Window(5, 79)] | Duration : 75 | Travel time : 4 | Tardiness : 0 | Earliest start (release time) : 5 | Latest start time (based on due date) : 1716 | \n",
      "│ Assignment : JOB-19@SITE-5 | Machine Usage : [Window(80, 178)] | Duration : 99 | Travel time : 3 | Tardiness : 0 | Earliest start (release time) : 4 | Latest start time (based on due date) : 1692 | \n",
      "│ Assignment : JOB-28@SITE-5 | Machine Usage : [Window(179, 265)] | Duration : 87 | Travel time : 0 | Tardiness : 0 | Earliest start (release time) : 1 | Latest start time (based on due date) : 1704 | \n",
      "│ Assignment : JOB-18@SITE-5 | Machine Usage : [Window(266, 335)] | Duration : 70 | Travel time : 2 | Tardiness : 0 | Earliest start (release time) : 3 | Latest start time (based on due date) : 1721 | \n",
      "└ @ Main /Users/sebastiangrandaaltamirano/Documents/Tech/Academic/M2 ROAD/Courses/2. Gestion des opérations et planification de la production/Projet/job-scheduling/src/services/outputs.jl:94\n",
      "┌ Info: Solution recorded in benchmark file\n",
      "└ @ Main /Users/sebastiangrandaaltamirano/Documents/Tech/Academic/M2 ROAD/Courses/2. Gestion des opérations et planification de la production/Projet/job-scheduling/src/services/outputs.jl:249\n"
     ]
    }
   ],
   "source": [
    "instances = [\"A_instance_2_2_4\", \"A_instance_2_2_6\", \"A_instance_2_2_10\"]\n",
    "models = [\"BaseModel\", \"MP2\"]\n",
    "\n",
    "benchmark!(instances, models)"
   ]
  },
  {
   "cell_type": "code",
   "execution_count": 50,
   "metadata": {},
   "outputs": [],
   "source": [
    "# models = [\"BaseModel\", \"MP2\"]\n",
    "# benchmark!(models, 3)"
   ]
  },
  {
   "cell_type": "code",
   "execution_count": null,
   "metadata": {},
   "outputs": [],
   "source": []
  }
 ],
 "metadata": {
  "kernelspec": {
   "display_name": "Julia 1.9.3",
   "language": "julia",
   "name": "julia-1.9"
  },
  "language_info": {
   "file_extension": ".jl",
   "mimetype": "application/julia",
   "name": "julia",
   "version": "1.9.3"
  }
 },
 "nbformat": 4,
 "nbformat_minor": 2
}
