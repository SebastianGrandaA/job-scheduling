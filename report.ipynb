{
 "cells": [
  {
   "cell_type": "code",
   "execution_count": 1,
   "metadata": {},
   "outputs": [
    {
     "name": "stderr",
     "output_type": "stream",
     "text": [
      "\u001b[32m\u001b[1m  Activating\u001b[22m\u001b[39m project at `~/Documents/Tech/Academic/M2 ROAD/Courses/2. Gestion des opérations et planification de la production/Projet/job-scheduling`\n"
     ]
    }
   ],
   "source": [
    "include(\"main.jl\")"
   ]
  },
  {
   "cell_type": "code",
   "execution_count": null,
   "metadata": {},
   "outputs": [],
   "source": [
    "args = Dict(\n",
    "    \"instance\" => PMSLPData(), # sample\n",
    "    \"model\" => \"BaseModel\", # MP1, MP2, Heuristic, BaseModel\n",
    "    \"limit\" => 1 * 60 * 60,\n",
    "    \"benchmark\" => true,\n",
    "    \"verbose\" => false,\n",
    ")\n",
    "\n",
    "solution = execute(args)"
   ]
  },
  {
   "cell_type": "code",
   "execution_count": null,
   "metadata": {},
   "outputs": [],
   "source": [
    "@assert objective_value(solution) == 678.8"
   ]
  },
  {
   "cell_type": "code",
   "execution_count": null,
   "metadata": {},
   "outputs": [],
   "source": [
    "solution = execute(Dict(\n",
    "    \"filename\" => \"A_instance_2_2_0\", # sample\n",
    "    \"model\" => \"Heuristic\", # MP1, MP2\n",
    "    \"limit\" => 5,\n",
    "    \"benchmark\" => true,\n",
    "    \"verbose\" => false,\n",
    "))"
   ]
  },
  {
   "cell_type": "markdown",
   "metadata": {},
   "source": [
    "## Benchmark"
   ]
  },
  {
   "cell_type": "code",
   "execution_count": null,
   "metadata": {},
   "outputs": [],
   "source": [
    "instances = [\"A_instance_2_2_0\", \"A_instance_2_2_2\"]\n",
    "# instances = [\"A_instance_2_2_4\", \"A_instance_2_2_6\", \"A_instance_2_2_10\"]\n",
    "models = [\"BaseModel\", \"MIP1\", \"MIP2\", \"Heuristic\"]\n",
    "timeout = 10 * 60 # minutes # TODO ampliar segun doc\n",
    "args = Dict(:BaseModel_timeout=>timeout, :MIP1_timeout=>timeout, :MIP2_timeout=>timeout, :Heuristic_timeout=>timeout/60)\n",
    "\n",
    "benchmark!(instances, models; args...)"
   ]
  },
  {
   "cell_type": "code",
   "execution_count": null,
   "metadata": {},
   "outputs": [],
   "source": [
    "models = [\"BaseModel\", \"MIP1\", \"MP2\", \"Heuristic\"]\n",
    "nb_models = 10\n",
    "benchmark!(models, nb_models; args...)"
   ]
  }
 ],
 "metadata": {
  "kernelspec": {
   "display_name": "Julia 1.9.3",
   "language": "julia",
   "name": "julia-1.9"
  },
  "language_info": {
   "file_extension": ".jl",
   "mimetype": "application/julia",
   "name": "julia",
   "version": "1.9.3"
  }
 },
 "nbformat": 4,
 "nbformat_minor": 2
}
