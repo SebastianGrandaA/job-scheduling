{
 "cells": [
  {
   "cell_type": "code",
   "execution_count": null,
   "metadata": {},
   "outputs": [],
   "source": [
    "include(\"main.jl\")"
   ]
  },
  {
   "cell_type": "code",
   "execution_count": null,
   "metadata": {},
   "outputs": [],
   "source": [
    "args = Dict(\n",
    "    \"filename\" => \"A_instance_2_2_4\", # PMSLPData(), # sample\n",
    "    \"model\" => \"MP2\", # MP1, MP2, Heuristic, BaseModel\n",
    "    \"limit\" => 1 * 60 * 60,\n",
    "    \"benchmark\" => false,\n",
    "    \"verbose\" => false,\n",
    ")\n",
    "\n",
    "solution = execute(args)"
   ]
  },
  {
   "cell_type": "code",
   "execution_count": null,
   "metadata": {},
   "outputs": [],
   "source": [
    "@assert objective_value(solution) == 678.8"
   ]
  },
  {
   "cell_type": "code",
   "execution_count": null,
   "metadata": {},
   "outputs": [],
   "source": [
    "solution = execute(Dict(\n",
    "    \"filename\" => \"A_instance_2_2_0\", # sample\n",
    "    \"model\" => \"Heuristic\", # MP1, MP2\n",
    "    \"limit\" => 5,\n",
    "    \"benchmark\" => true,\n",
    "    \"verbose\" => false,\n",
    "))"
   ]
  },
  {
   "cell_type": "markdown",
   "metadata": {},
   "source": [
    "## Benchmark"
   ]
  },
  {
   "cell_type": "code",
   "execution_count": null,
   "metadata": {},
   "outputs": [],
   "source": [
    "instances = [\"A_instance_2_2_0\", \"A_instance_2_2_2\", \"A_instance_2_2_4\"] #, \"A_instance_2_2_6\", \"A_instance_2_2_8\", \"A_instance_2_2_10\"]\n",
    "# instances = [\"A_instance_2_2_0\", \"B_instance_2_2_4\", \"B_instance_2_2_0\", \"A_instance_2_2_8\", \"A_instance_2_2_10\", \"B_instance_2_2_2\"]\n",
    "models = [\"MIP2\"] # , \"Heuristic\"] # [\"BaseModel\", \"MIP1\", \"MIP2\", \"Heuristic\"]\n",
    "# models = [\"Heuristic\"]\n",
    "timeout = 10 * 60\n",
    "args = Dict(:BaseModel_timeout=>timeout, :MIP1_timeout=>timeout, :MIP2_timeout=>timeout, :Heuristic_timeout=>timeout/60)\n",
    "\n",
    "benchmark!(instances, models; args...)"
   ]
  },
  {
   "cell_type": "code",
   "execution_count": null,
   "metadata": {},
   "outputs": [],
   "source": [
    "models = [\"MP2\", \"Heuristic\"] # \"MIP1\", \"MP2\", \"Heuristic\"]\n",
    "nb_instances = 10\n",
    "benchmark!(models, nb_instances; args...)"
   ]
  }
 ],
 "metadata": {
  "kernelspec": {
   "display_name": "Julia 1.9.3",
   "language": "julia",
   "name": "julia-1.9"
  },
  "language_info": {
   "file_extension": ".jl",
   "mimetype": "application/julia",
   "name": "julia",
   "version": "1.9.3"
  }
 },
 "nbformat": 4,
 "nbformat_minor": 2
}
